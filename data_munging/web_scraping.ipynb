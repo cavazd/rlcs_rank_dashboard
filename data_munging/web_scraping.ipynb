{
 "cells": [
  {
   "cell_type": "code",
   "execution_count": 59,
   "metadata": {},
   "outputs": [],
   "source": [
    "# necessary imports\n",
    "from bs4 import BeautifulSoup\n",
    "import requests\n",
    "import numpy as py\n",
    "import pandas as pd"
   ]
  },
  {
   "cell_type": "code",
   "execution_count": 60,
   "metadata": {},
   "outputs": [],
   "source": [
    "# get page request for region\n",
    "# make sure to replace with region wanted\n",
    "page = requests.get('https://liquipedia.net/rocketleague/Rocket_League_Championship_Series/2022-23/Rankings/Sub-Saharan_Africa')"
   ]
  },
  {
   "cell_type": "code",
   "execution_count": 61,
   "metadata": {},
   "outputs": [],
   "source": [
    "# ------- change this to the correct toggle-area-content -------\n",
    "toggle_content = \"10\"\n",
    "\n",
    "pagetree = BeautifulSoup(page.text, \"html.parser\")\n",
    "table = pagetree.find_all('table', class_='wikitable')\n",
    "all_rows = table[0].find_all(attrs={\"data-toggle-area-content\": toggle_content})"
   ]
  },
  {
   "cell_type": "code",
   "execution_count": 62,
   "metadata": {},
   "outputs": [],
   "source": [
    "# scrapped data DF\n",
    "# ------- may need to change the deductions columns by region -------\n",
    "scrapped_data = pd.DataFrame(columns = [\n",
    "  'ranking', 'movement', 'team', 'total_points',\n",
    "  'fall_open', 'fall_cup', 'fall_invitational', 'fall_major',\n",
    "  'win_open', 'win_cup', 'win_invitational', 'win_major',\n",
    "  'spr_open', 'spr_cup', 'spr_invitational', 'spr_major'\n",
    "])"
   ]
  },
  {
   "cell_type": "code",
   "execution_count": 63,
   "metadata": {},
   "outputs": [],
   "source": [
    "# Get the data in the table\n",
    "for row in all_rows:\n",
    "  cols = row.find_all('td')\n",
    "  this_row = []\n",
    "  i = 0\n",
    "  for col in cols:\n",
    "    i+= 1\n",
    "    this_row.append(col.text.strip())\n",
    "\n",
    "  scrapped_data.loc[scrapped_data.shape[0]+1] = this_row"
   ]
  },
  {
   "cell_type": "code",
   "execution_count": 64,
   "metadata": {},
   "outputs": [],
   "source": [
    "# remove columns we don't care about\n",
    "scrapped_data = scrapped_data.loc[:,\n",
    "  ~scrapped_data.columns.isin([\n",
    "    'ranking', 'movement',\n",
    "    'total_points'\n",
    "  ])\n",
    "]"
   ]
  },
  {
   "cell_type": "code",
   "execution_count": 65,
   "metadata": {},
   "outputs": [
    {
     "data": {
      "text/html": [
       "<div>\n",
       "<style scoped>\n",
       "    .dataframe tbody tr th:only-of-type {\n",
       "        vertical-align: middle;\n",
       "    }\n",
       "\n",
       "    .dataframe tbody tr th {\n",
       "        vertical-align: top;\n",
       "    }\n",
       "\n",
       "    .dataframe thead th {\n",
       "        text-align: right;\n",
       "    }\n",
       "</style>\n",
       "<table border=\"1\" class=\"dataframe\">\n",
       "  <thead>\n",
       "    <tr style=\"text-align: right;\">\n",
       "      <th></th>\n",
       "      <th>team</th>\n",
       "      <th>fall_open</th>\n",
       "      <th>deductions</th>\n",
       "      <th>fall_cup</th>\n",
       "      <th>fall_invitational</th>\n",
       "      <th>win_open</th>\n",
       "      <th>win_cup</th>\n",
       "      <th>win_invitational</th>\n",
       "      <th>spr_open</th>\n",
       "      <th>spr_cup</th>\n",
       "      <th>spr_invitational</th>\n",
       "    </tr>\n",
       "  </thead>\n",
       "  <tbody>\n",
       "    <tr>\n",
       "      <th>1</th>\n",
       "      <td>May contain nuts</td>\n",
       "      <td>16</td>\n",
       "      <td></td>\n",
       "      <td>2</td>\n",
       "      <td>2</td>\n",
       "      <td></td>\n",
       "      <td></td>\n",
       "      <td></td>\n",
       "      <td></td>\n",
       "      <td></td>\n",
       "      <td></td>\n",
       "    </tr>\n",
       "    <tr>\n",
       "      <th>2</th>\n",
       "      <td>Orlando Pirates Exdee</td>\n",
       "      <td>12</td>\n",
       "      <td></td>\n",
       "      <td>2</td>\n",
       "      <td>2</td>\n",
       "      <td></td>\n",
       "      <td></td>\n",
       "      <td></td>\n",
       "      <td></td>\n",
       "      <td></td>\n",
       "      <td></td>\n",
       "    </tr>\n",
       "    <tr>\n",
       "      <th>3</th>\n",
       "      <td>Millennial Times Gaming</td>\n",
       "      <td>9</td>\n",
       "      <td></td>\n",
       "      <td>2</td>\n",
       "      <td>2</td>\n",
       "      <td></td>\n",
       "      <td></td>\n",
       "      <td></td>\n",
       "      <td></td>\n",
       "      <td></td>\n",
       "      <td></td>\n",
       "    </tr>\n",
       "    <tr>\n",
       "      <th>4</th>\n",
       "      <td>Reformed</td>\n",
       "      <td>9</td>\n",
       "      <td></td>\n",
       "      <td>2</td>\n",
       "      <td>2</td>\n",
       "      <td></td>\n",
       "      <td></td>\n",
       "      <td></td>\n",
       "      <td></td>\n",
       "      <td></td>\n",
       "      <td></td>\n",
       "    </tr>\n",
       "    <tr>\n",
       "      <th>5</th>\n",
       "      <td>ATK</td>\n",
       "      <td>6</td>\n",
       "      <td></td>\n",
       "      <td>2</td>\n",
       "      <td>2</td>\n",
       "      <td></td>\n",
       "      <td></td>\n",
       "      <td></td>\n",
       "      <td></td>\n",
       "      <td></td>\n",
       "      <td></td>\n",
       "    </tr>\n",
       "  </tbody>\n",
       "</table>\n",
       "</div>"
      ],
      "text/plain": [
       "                      team fall_open deductions fall_cup fall_invitational  \\\n",
       "1         May contain nuts        16                   2                 2   \n",
       "2    Orlando Pirates Exdee        12                   2                 2   \n",
       "3  Millennial Times Gaming         9                   2                 2   \n",
       "4                 Reformed         9                   2                 2   \n",
       "5                      ATK         6                   2                 2   \n",
       "\n",
       "  win_open win_cup win_invitational spr_open spr_cup spr_invitational  \n",
       "1                                                                      \n",
       "2                                                                      \n",
       "3                                                                      \n",
       "4                                                                      \n",
       "5                                                                      "
      ]
     },
     "execution_count": 65,
     "metadata": {},
     "output_type": "execute_result"
    }
   ],
   "source": [
    "# preview\n",
    "scrapped_data.head()"
   ]
  },
  {
   "cell_type": "code",
   "execution_count": 66,
   "metadata": {},
   "outputs": [],
   "source": [
    "# write to csv\n",
    "# ------- BE SURE TO WRITE TO THE CORRECT CSV NAME -------\n",
    "scrapped_data.to_csv(\"../data/rlcs_2021-2022/scrapped_data.csv\", index=False)"
   ]
  },
  {
   "cell_type": "code",
   "execution_count": null,
   "metadata": {},
   "outputs": [],
   "source": []
  }
 ],
 "metadata": {
  "kernelspec": {
   "display_name": "Python 3.10.6 64-bit",
   "language": "python",
   "name": "python3"
  },
  "language_info": {
   "codemirror_mode": {
    "name": "ipython",
    "version": 3
   },
   "file_extension": ".py",
   "mimetype": "text/x-python",
   "name": "python",
   "nbconvert_exporter": "python",
   "pygments_lexer": "ipython3",
   "version": "3.10.6"
  },
  "orig_nbformat": 4,
  "vscode": {
   "interpreter": {
    "hash": "afb734500600fd355917ca529030176ea0ca205570884b88f2f6f7d791fd3fbe"
   }
  }
 },
 "nbformat": 4,
 "nbformat_minor": 2
}
